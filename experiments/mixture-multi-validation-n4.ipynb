{
 "cells": [
  {
   "cell_type": "code",
   "execution_count": null,
   "metadata": {},
   "outputs": [],
   "source": [
    "include(\"../ntl.jl\")\n",
    "import Random\n",
    "\n",
    "using LinearAlgebra\n",
    "Random.seed!(3)\n",
    "\n",
    "dirichlet_scale = ones(Float64, 10)\n",
    "data_parameters = Ntl.Models.MultinomialParameters(10, dirichlet_scale)\n",
    "\n",
    "psi_prior = Vector{Float64}([1, 1])\n",
    "phi_prior = Vector{Float64}([1, 1])\n",
    "geometric_arrival = Ntl.Models.GeometricArrivals(prior=phi_prior, sample_parameter_posterior=true)\n",
    "ntl_cluster_parameters = Ntl.Models.NtlParameters(psi_prior, geometric_arrival)\n",
    "\n",
    "mixture_model = Ntl.Models.Mixture(ntl_cluster_parameters, data_parameters)\n",
    "n = 4\n",
    "mixture = Ntl.Generate.generate(mixture_model, n=n)\n",
    "data = Matrix(transpose(Matrix(mixture[:, 2:end])))\n",
    "training_data = data[:, 1:n]\n",
    "true_clustering = mixture[:, 1]\n",
    "true_number_of_clusters = length(unique(true_clustering))"
   ]
  },
  {
   "cell_type": "code",
   "execution_count": null,
   "metadata": {
    "tags": []
   },
   "outputs": [],
   "source": [
    "ntl_cluster_parameters = Ntl.Models.NtlParameters(psi_prior, geometric_arrival)\n",
    "gibbs_sampler = Ntl.Samplers.GibbsSampler(num_iterations=1000000, num_burn_in=100000, skip=1,\n",
    "                                          assignment_types=[\"all same cluster\"])\n",
    "gibbs_output = Ntl.Fitter.fit(training_data, mixture_model, gibbs_sampler)"
   ]
  },
  {
   "cell_type": "code",
   "execution_count": null,
   "metadata": {},
   "outputs": [],
   "source": [
    "Ntl.Plot.plot_clustering_posterior_probability_validation(gibbs_output[\"assignments\"][:, :, 1], data, mixture_model)"
   ]
  },
  {
   "cell_type": "code",
   "execution_count": null,
   "metadata": {},
   "outputs": [],
   "source": [
    "metropolis_hastings_sampler = Ntl.Samplers.MetropolisHastingsSampler(num_iterations=1000000, num_burn_in=100000, proposal_radius=100, skip=1, adaptive=false,\n",
    "                                                                     assignment_types=[\"random\"])\n",
    "mcmc_output = Ntl.Fitter.fit(training_data, mixture_model, metropolis_hastings_sampler) "
   ]
  },
  {
   "cell_type": "code",
   "execution_count": null,
   "metadata": {},
   "outputs": [],
   "source": [
    "Ntl.Plot.plot_clustering_posterior_probability_validation(mcmc_output[\"assignments\"][:, :, 1], data, mixture_model)"
   ]
  }
 ],
 "metadata": {
  "kernelspec": {
   "display_name": "Julia 1.6.1",
   "language": "julia",
   "name": "julia-1.6"
  },
  "language_info": {
   "file_extension": ".jl",
   "mimetype": "application/julia",
   "name": "julia",
   "version": "1.6.1"
  }
 },
 "nbformat": 4,
 "nbformat_minor": 4
}
